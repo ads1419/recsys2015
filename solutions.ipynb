{
 "cells": [
  {
   "cell_type": "code",
   "execution_count": 1,
   "metadata": {},
   "outputs": [
    {
     "data": {
      "text/html": [
       "\n",
       "            <div>\n",
       "                <p><b>SparkSession - hive</b></p>\n",
       "                \n",
       "        <div>\n",
       "            <p><b>SparkContext</b></p>\n",
       "\n",
       "            <p><a href=\"http://ip-172-31-31-54.us-west-2.compute.internal:4040\">Spark UI</a></p>\n",
       "\n",
       "            <dl>\n",
       "              <dt>Version</dt>\n",
       "                <dd><code>v2.3.4</code></dd>\n",
       "              <dt>Master</dt>\n",
       "                <dd><code>local[*]</code></dd>\n",
       "              <dt>AppName</dt>\n",
       "                <dd><code>PySparkShell</code></dd>\n",
       "            </dl>\n",
       "        </div>\n",
       "        \n",
       "            </div>\n",
       "        "
      ],
      "text/plain": [
       "<pyspark.sql.session.SparkSession at 0x7efcfc73a110>"
      ]
     },
     "execution_count": 1,
     "metadata": {},
     "output_type": "execute_result"
    }
   ],
   "source": [
    "spark"
   ]
  },
  {
   "cell_type": "code",
   "execution_count": 2,
   "metadata": {},
   "outputs": [],
   "source": [
    "# !wget --load-cookies /tmp/cookies.txt \"https://docs.google.com/uc?export=download&confirm=$(wget --quiet --save-cookies /tmp/cookies.txt --keep-session-cookies --no-check-certificate 'https://docs.google.com/uc?export=download&id=1YfpOKU_vz4CJCjAwhwM7dFYfEJWZudme' -O- | sed -rn 's/.*confirm=([0-9A-Za-z_]+).*/\\1\\n/p')&id=1YfpOKU_vz4CJCjAwhwM7dFYfEJWZudme\" -O clicks2.dat.gz && rm -rf /tmp/cookies.txt"
   ]
  },
  {
   "cell_type": "code",
   "execution_count": 3,
   "metadata": {},
   "outputs": [],
   "source": [
    "# !wget --load-cookies /tmp/cookies.txt \"https://docs.google.com/uc?export=download&confirm=$(wget --quiet --save-cookies /tmp/cookies.txt --keep-session-cookies --no-check-certificate 'https://docs.google.com/uc?export=download&id=1Jat5OLvFt5H4yF-Dw42bAQ1EZmQqQD-D' -O- | sed -rn 's/.*confirm=([0-9A-Za-z_]+).*/\\1\\n/p')&id=1Jat5OLvFt5H4yF-Dw42bAQ1EZmQqQD-D\" -O buys.dat.gz && rm -rf /tmp/cookies.txt"
   ]
  },
  {
   "cell_type": "code",
   "execution_count": 4,
   "metadata": {},
   "outputs": [],
   "source": [
    "# !wget --load-cookies /tmp/cookies.txt \"https://docs.google.com/uc?export=download&confirm=$(wget --quiet --save-cookies /tmp/cookies.txt --keep-session-cookies --no-check-certificate 'https://docs.google.com/uc?export=download&id=1Ll7rqusi5ISuGWSpa6WGqmFaZcWUpR91' -O- | sed -rn 's/.*confirm=([0-9A-Za-z_]+).*/\\1\\n/p')&id=1Ll7rqusi5ISuGWSpa6WGqmFaZcWUpR91\" -O test.dat.gz && rm -rf /tmp/cookies.txt"
   ]
  },
  {
   "cell_type": "markdown",
   "metadata": {},
   "source": [
    "## Loading yoochoose-buys.dat"
   ]
  },
  {
   "cell_type": "code",
   "execution_count": 2,
   "metadata": {},
   "outputs": [],
   "source": [
    "df_buys = (spark.read.format('csv')\n",
    ".options(inferSchema=True)\n",
    ".load('recsys2015/buys.dat.gz')\n",
    ".toDF('sess_id', 'timestamp', 'item_id', 'price', 'qty')).cache()"
   ]
  },
  {
   "cell_type": "code",
   "execution_count": 138,
   "metadata": {},
   "outputs": [
    {
     "name": "stdout",
     "output_type": "stream",
     "text": [
      "+-------+--------------------+---------+-----+---+\n",
      "|sess_id|           timestamp|  item_id|price|qty|\n",
      "+-------+--------------------+---------+-----+---+\n",
      "| 420374|2014-04-06 18:44:...|214537888|12462|  1|\n",
      "| 420374|2014-04-06 18:44:...|214537850|10471|  1|\n",
      "| 281626|2014-04-06 09:40:...|214535653| 1883|  1|\n",
      "| 420368|2014-04-04 06:13:...|214530572| 6073|  1|\n",
      "| 420368|2014-04-04 06:13:...|214835025| 2617|  1|\n",
      "+-------+--------------------+---------+-----+---+\n",
      "only showing top 5 rows\n",
      "\n"
     ]
    }
   ],
   "source": [
    "df_buys.show(5)"
   ]
  },
  {
   "cell_type": "code",
   "execution_count": 7,
   "metadata": {},
   "outputs": [
    {
     "name": "stdout",
     "output_type": "stream",
     "text": [
      "root\n",
      " |-- sess_id: integer (nullable = true)\n",
      " |-- timestamp: timestamp (nullable = true)\n",
      " |-- item_id: integer (nullable = true)\n",
      " |-- price: integer (nullable = true)\n",
      " |-- qty: integer (nullable = true)\n",
      "\n"
     ]
    }
   ],
   "source": [
    "df_buys.printSchema()"
   ]
  },
  {
   "cell_type": "code",
   "execution_count": 8,
   "metadata": {},
   "outputs": [
    {
     "data": {
      "text/plain": [
       "True"
      ]
     },
     "execution_count": 8,
     "metadata": {},
     "output_type": "execute_result"
    }
   ],
   "source": [
    "df_buys.storageLevel.useMemory"
   ]
  },
  {
   "cell_type": "markdown",
   "metadata": {},
   "source": [
    "## Loading yoochoose-clicks.dat"
   ]
  },
  {
   "cell_type": "code",
   "execution_count": 3,
   "metadata": {},
   "outputs": [],
   "source": [
    "df_clicks = (spark.read.format('csv')\n",
    ".options(inferSchema=True)\n",
    ".load('recsys2015/clicks.dat.gz')\n",
    ".toDF('sess_id', 'timestamp', 'item_id', 'category')).cache()"
   ]
  },
  {
   "cell_type": "code",
   "execution_count": 10,
   "metadata": {},
   "outputs": [
    {
     "name": "stdout",
     "output_type": "stream",
     "text": [
      "+-------+--------------------+---------+--------+\n",
      "|sess_id|           timestamp|  item_id|category|\n",
      "+-------+--------------------+---------+--------+\n",
      "|      1|2014-04-07 10:51:...|214536502|       0|\n",
      "|      1|2014-04-07 10:54:...|214536500|       0|\n",
      "|      1|2014-04-07 10:54:...|214536506|       0|\n",
      "|      1|2014-04-07 10:57:...|214577561|       0|\n",
      "|      2|2014-04-07 13:56:...|214662742|       0|\n",
      "+-------+--------------------+---------+--------+\n",
      "only showing top 5 rows\n",
      "\n"
     ]
    }
   ],
   "source": [
    "df_clicks.show(5)"
   ]
  },
  {
   "cell_type": "code",
   "execution_count": 4,
   "metadata": {},
   "outputs": [],
   "source": [
    "from pyspark.sql.types import IntegerType\n",
    "df_clicks = df_clicks.withColumn(\"category\", df_clicks[\"category\"].cast(IntegerType()))"
   ]
  },
  {
   "cell_type": "code",
   "execution_count": 12,
   "metadata": {},
   "outputs": [
    {
     "name": "stdout",
     "output_type": "stream",
     "text": [
      "root\n",
      " |-- sess_id: integer (nullable = true)\n",
      " |-- timestamp: timestamp (nullable = true)\n",
      " |-- item_id: integer (nullable = true)\n",
      " |-- category: integer (nullable = true)\n",
      "\n"
     ]
    }
   ],
   "source": [
    "df_clicks.printSchema()"
   ]
  },
  {
   "cell_type": "code",
   "execution_count": 8,
   "metadata": {},
   "outputs": [],
   "source": [
    "# df_clicks.storageLevel.useMemory"
   ]
  },
  {
   "cell_type": "markdown",
   "metadata": {},
   "source": [
    "## Question 1"
   ]
  },
  {
   "cell_type": "markdown",
   "metadata": {},
   "source": [
    "How many records in yoochoose-clicks.dat and yoochoose-buys.dat?"
   ]
  },
  {
   "cell_type": "code",
   "execution_count": 34,
   "metadata": {},
   "outputs": [
    {
     "data": {
      "text/plain": [
       "(33003944, 1150753)"
      ]
     },
     "execution_count": 34,
     "metadata": {},
     "output_type": "execute_result"
    }
   ],
   "source": [
    "df_clicks.count(), df_buys.count()"
   ]
  },
  {
   "cell_type": "markdown",
   "metadata": {},
   "source": [
    "## Question 2"
   ]
  },
  {
   "cell_type": "markdown",
   "metadata": {},
   "source": [
    "How many columns are there in the above files and what are the column types? Confirm that it matches with data description."
   ]
  },
  {
   "cell_type": "code",
   "execution_count": 36,
   "metadata": {},
   "outputs": [
    {
     "data": {
      "text/plain": [
       "4"
      ]
     },
     "execution_count": 36,
     "metadata": {},
     "output_type": "execute_result"
    }
   ],
   "source": [
    "len(df_clicks.columns)"
   ]
  },
  {
   "cell_type": "code",
   "execution_count": 37,
   "metadata": {},
   "outputs": [
    {
     "name": "stdout",
     "output_type": "stream",
     "text": [
      "root\n",
      " |-- sess_id: integer (nullable = true)\n",
      " |-- timestamp: timestamp (nullable = true)\n",
      " |-- item_id: integer (nullable = true)\n",
      " |-- category: string (nullable = true)\n",
      "\n"
     ]
    }
   ],
   "source": [
    "df_clicks.printSchema()"
   ]
  },
  {
   "cell_type": "code",
   "execution_count": 38,
   "metadata": {},
   "outputs": [
    {
     "data": {
      "text/plain": [
       "5"
      ]
     },
     "execution_count": 38,
     "metadata": {},
     "output_type": "execute_result"
    }
   ],
   "source": [
    "len(df_buys.columns)"
   ]
  },
  {
   "cell_type": "code",
   "execution_count": 39,
   "metadata": {},
   "outputs": [
    {
     "name": "stdout",
     "output_type": "stream",
     "text": [
      "root\n",
      " |-- sess_id: integer (nullable = true)\n",
      " |-- timestamp: timestamp (nullable = true)\n",
      " |-- item_id: integer (nullable = true)\n",
      " |-- price: integer (nullable = true)\n",
      " |-- qty: integer (nullable = true)\n",
      "\n"
     ]
    }
   ],
   "source": [
    "df_buys.printSchema()"
   ]
  },
  {
   "cell_type": "markdown",
   "metadata": {},
   "source": [
    "Column types match data description."
   ]
  },
  {
   "cell_type": "markdown",
   "metadata": {},
   "source": [
    "## Question 3"
   ]
  },
  {
   "cell_type": "markdown",
   "metadata": {},
   "source": [
    "Convert the above files into parquet for more efficient reading."
   ]
  },
  {
   "cell_type": "code",
   "execution_count": 44,
   "metadata": {},
   "outputs": [],
   "source": [
    "df_buys.write.format('parquet').mode(\"overwrite\").save('recsys2015/buys')"
   ]
  },
  {
   "cell_type": "code",
   "execution_count": 45,
   "metadata": {},
   "outputs": [],
   "source": [
    "df_clicks.write.format('parquet').mode(\"overwrite\").save('recsys2015/clicks')"
   ]
  },
  {
   "cell_type": "markdown",
   "metadata": {},
   "source": [
    "## Question 4"
   ]
  },
  {
   "cell_type": "markdown",
   "metadata": {},
   "source": [
    "What is the min and max timestamp for buys and clicks?"
   ]
  },
  {
   "cell_type": "code",
   "execution_count": 5,
   "metadata": {},
   "outputs": [],
   "source": [
    "import pyspark.sql.functions as F"
   ]
  },
  {
   "cell_type": "markdown",
   "metadata": {},
   "source": [
    "For buys:"
   ]
  },
  {
   "cell_type": "code",
   "execution_count": 49,
   "metadata": {},
   "outputs": [
    {
     "data": {
      "text/plain": [
       "[Row(min(timestamp)=datetime.datetime(2014, 4, 1, 3, 5, 31, 743000))]"
      ]
     },
     "execution_count": 49,
     "metadata": {},
     "output_type": "execute_result"
    }
   ],
   "source": [
    "df_buys.select(F.min('timestamp')).collect(), df_buys.select(F.max('timestamp')).collect()"
   ]
  },
  {
   "cell_type": "markdown",
   "metadata": {},
   "source": [
    "For clicks:"
   ]
  },
  {
   "cell_type": "code",
   "execution_count": 50,
   "metadata": {},
   "outputs": [
    {
     "data": {
      "text/plain": [
       "([Row(min(timestamp)=datetime.datetime(2014, 4, 1, 3, 0, 0, 124000))],\n",
       " [Row(max(timestamp)=datetime.datetime(2014, 9, 30, 2, 59, 59, 430000))])"
      ]
     },
     "execution_count": 50,
     "metadata": {},
     "output_type": "execute_result"
    }
   ],
   "source": [
    "df_clicks.select(F.min('timestamp')).collect(), df_clicks.select(F.max('timestamp')).collect()"
   ]
  },
  {
   "cell_type": "markdown",
   "metadata": {},
   "source": [
    "## Question 5"
   ]
  },
  {
   "cell_type": "markdown",
   "metadata": {},
   "source": [
    "Is any session_id present in the buys dataset  but not in clicks dataset?"
   ]
  },
  {
   "cell_type": "code",
   "execution_count": 52,
   "metadata": {},
   "outputs": [
    {
     "data": {
      "text/plain": [
       "[]"
      ]
     },
     "execution_count": 52,
     "metadata": {},
     "output_type": "execute_result"
    }
   ],
   "source": [
    "df_buys.select('sess_id').subtract(df_clicks.select('sess_id')).collect()"
   ]
  },
  {
   "cell_type": "markdown",
   "metadata": {},
   "source": [
    "No."
   ]
  },
  {
   "cell_type": "markdown",
   "metadata": {},
   "source": [
    "## Question 6"
   ]
  },
  {
   "cell_type": "markdown",
   "metadata": {},
   "source": [
    "If you struggle with the size of the data, take a sample of 100K samples from the clicks dataset."
   ]
  },
  {
   "cell_type": "code",
   "execution_count": 63,
   "metadata": {},
   "outputs": [],
   "source": [
    "df_clicks_small = df_clicks.limit(100000)"
   ]
  },
  {
   "cell_type": "markdown",
   "metadata": {},
   "source": [
    "## Question 7"
   ]
  },
  {
   "cell_type": "markdown",
   "metadata": {},
   "source": [
    "Find the number of null values for each column?"
   ]
  },
  {
   "cell_type": "code",
   "execution_count": 60,
   "metadata": {},
   "outputs": [],
   "source": [
    "def count_missings(spark_df):\n",
    "    df = spark_df.select([F.count(F.when(F.isnan(c) | F.isnull(c), c)).alias(c) for (c,c_type) in spark_df.dtypes if c_type not in ('timestamp', 'string', 'date')]).toPandas()\n",
    "    return df"
   ]
  },
  {
   "cell_type": "code",
   "execution_count": 61,
   "metadata": {},
   "outputs": [
    {
     "data": {
      "text/html": [
       "<div>\n",
       "<style scoped>\n",
       "    .dataframe tbody tr th:only-of-type {\n",
       "        vertical-align: middle;\n",
       "    }\n",
       "\n",
       "    .dataframe tbody tr th {\n",
       "        vertical-align: top;\n",
       "    }\n",
       "\n",
       "    .dataframe thead th {\n",
       "        text-align: right;\n",
       "    }\n",
       "</style>\n",
       "<table border=\"1\" class=\"dataframe\">\n",
       "  <thead>\n",
       "    <tr style=\"text-align: right;\">\n",
       "      <th></th>\n",
       "      <th>sess_id</th>\n",
       "      <th>item_id</th>\n",
       "    </tr>\n",
       "  </thead>\n",
       "  <tbody>\n",
       "    <tr>\n",
       "      <td>0</td>\n",
       "      <td>0</td>\n",
       "      <td>0</td>\n",
       "    </tr>\n",
       "  </tbody>\n",
       "</table>\n",
       "</div>"
      ],
      "text/plain": [
       "   sess_id  item_id\n",
       "0        0        0"
      ]
     },
     "execution_count": 61,
     "metadata": {},
     "output_type": "execute_result"
    }
   ],
   "source": [
    "count_missings(df_clicks_small)"
   ]
  },
  {
   "cell_type": "code",
   "execution_count": 62,
   "metadata": {},
   "outputs": [
    {
     "data": {
      "text/html": [
       "<div>\n",
       "<style scoped>\n",
       "    .dataframe tbody tr th:only-of-type {\n",
       "        vertical-align: middle;\n",
       "    }\n",
       "\n",
       "    .dataframe tbody tr th {\n",
       "        vertical-align: top;\n",
       "    }\n",
       "\n",
       "    .dataframe thead th {\n",
       "        text-align: right;\n",
       "    }\n",
       "</style>\n",
       "<table border=\"1\" class=\"dataframe\">\n",
       "  <thead>\n",
       "    <tr style=\"text-align: right;\">\n",
       "      <th></th>\n",
       "      <th>sess_id</th>\n",
       "      <th>item_id</th>\n",
       "      <th>price</th>\n",
       "      <th>qty</th>\n",
       "    </tr>\n",
       "  </thead>\n",
       "  <tbody>\n",
       "    <tr>\n",
       "      <td>0</td>\n",
       "      <td>0</td>\n",
       "      <td>0</td>\n",
       "      <td>0</td>\n",
       "      <td>0</td>\n",
       "    </tr>\n",
       "  </tbody>\n",
       "</table>\n",
       "</div>"
      ],
      "text/plain": [
       "   sess_id  item_id  price  qty\n",
       "0        0        0      0    0"
      ]
     },
     "execution_count": 62,
     "metadata": {},
     "output_type": "execute_result"
    }
   ],
   "source": [
    "count_missings(df_buys)"
   ]
  },
  {
   "cell_type": "markdown",
   "metadata": {},
   "source": [
    "No null values present."
   ]
  },
  {
   "cell_type": "markdown",
   "metadata": {},
   "source": [
    "## Question 8"
   ]
  },
  {
   "cell_type": "markdown",
   "metadata": {},
   "source": [
    "Find the normalized frequency (frequency / total) of each category in the clicks dataset. Add a new column (\"cat_freq\") that shows the normed frequency for each row associated with each category."
   ]
  },
  {
   "cell_type": "code",
   "execution_count": 64,
   "metadata": {},
   "outputs": [],
   "source": [
    "gdf_clicks = df_clicks_small.groupBy('category')"
   ]
  },
  {
   "cell_type": "code",
   "execution_count": 65,
   "metadata": {},
   "outputs": [],
   "source": [
    "counts = gdf_clicks.agg(F.count('item_id')).collect()"
   ]
  },
  {
   "cell_type": "code",
   "execution_count": 66,
   "metadata": {},
   "outputs": [],
   "source": [
    "count_per_cat = {}\n",
    "for c in counts:\n",
    "    count_per_cat[c[0]] = c[1]"
   ]
  },
  {
   "cell_type": "code",
   "execution_count": 67,
   "metadata": {},
   "outputs": [],
   "source": [
    "total_clicks = df_clicks_small.count()"
   ]
  },
  {
   "cell_type": "code",
   "execution_count": 68,
   "metadata": {},
   "outputs": [],
   "source": [
    "from pyspark.sql.types import FloatType\n",
    "freq = F.udf(lambda category: count_per_cat[category]/total_clicks, FloatType())"
   ]
  },
  {
   "cell_type": "code",
   "execution_count": 69,
   "metadata": {},
   "outputs": [
    {
     "name": "stdout",
     "output_type": "stream",
     "text": [
      "+-------+--------------------+---------+--------+--------+\n",
      "|sess_id|           timestamp|  item_id|category|cat_freq|\n",
      "+-------+--------------------+---------+--------+--------+\n",
      "|      1|2014-04-07 10:51:...|214536502|       0|     1.0|\n",
      "|      1|2014-04-07 10:54:...|214536500|       0|     1.0|\n",
      "|      1|2014-04-07 10:54:...|214536506|       0|     1.0|\n",
      "|      1|2014-04-07 10:57:...|214577561|       0|     1.0|\n",
      "|      2|2014-04-07 13:56:...|214662742|       0|     1.0|\n",
      "+-------+--------------------+---------+--------+--------+\n",
      "only showing top 5 rows\n",
      "\n"
     ]
    }
   ],
   "source": [
    "df_clicks_small = df_clicks_small.withColumn('cat_freq', freq(df_clicks_small.category))\n",
    "df_clicks_small.show(5)"
   ]
  },
  {
   "cell_type": "markdown",
   "metadata": {},
   "source": [
    "## Question 9"
   ]
  },
  {
   "cell_type": "markdown",
   "metadata": {},
   "source": [
    "In the clicks dataset, create a new column special_offer (boolean). Set to TRUE if the value in the \"category\" column is 999."
   ]
  },
  {
   "cell_type": "code",
   "execution_count": 70,
   "metadata": {},
   "outputs": [
    {
     "name": "stdout",
     "output_type": "stream",
     "text": [
      "root\n",
      " |-- sess_id: integer (nullable = true)\n",
      " |-- timestamp: timestamp (nullable = true)\n",
      " |-- item_id: integer (nullable = true)\n",
      " |-- category: integer (nullable = true)\n",
      " |-- cat_freq: float (nullable = true)\n",
      "\n"
     ]
    }
   ],
   "source": [
    "df_clicks_small.printSchema()"
   ]
  },
  {
   "cell_type": "code",
   "execution_count": 71,
   "metadata": {},
   "outputs": [],
   "source": [
    "# from pyspark.sql.types import IntegerType\n",
    "# df_clicks = df_clicks.withColumn(\"category\", df_clicks[\"category\"].cast(IntegerType()))"
   ]
  },
  {
   "cell_type": "code",
   "execution_count": 72,
   "metadata": {},
   "outputs": [],
   "source": [
    "is999 = F.udf(lambda category: category == 999)"
   ]
  },
  {
   "cell_type": "code",
   "execution_count": 73,
   "metadata": {},
   "outputs": [],
   "source": [
    "df_clicks_small = df_clicks_small.withColumn('special_offer', is999(df_clicks_small.category))"
   ]
  },
  {
   "cell_type": "code",
   "execution_count": 74,
   "metadata": {},
   "outputs": [
    {
     "name": "stdout",
     "output_type": "stream",
     "text": [
      "+-------+--------------------+---------+--------+--------+-------------+\n",
      "|sess_id|           timestamp|  item_id|category|cat_freq|special_offer|\n",
      "+-------+--------------------+---------+--------+--------+-------------+\n",
      "|      1|2014-04-07 10:51:...|214536502|       0|     1.0|        false|\n",
      "|      1|2014-04-07 10:54:...|214536500|       0|     1.0|        false|\n",
      "|      1|2014-04-07 10:54:...|214536506|       0|     1.0|        false|\n",
      "|      1|2014-04-07 10:57:...|214577561|       0|     1.0|        false|\n",
      "|      2|2014-04-07 13:56:...|214662742|       0|     1.0|        false|\n",
      "+-------+--------------------+---------+--------+--------+-------------+\n",
      "only showing top 5 rows\n",
      "\n"
     ]
    }
   ],
   "source": [
    "df_clicks_small.show(5)"
   ]
  },
  {
   "cell_type": "markdown",
   "metadata": {},
   "source": [
    "## Question 10"
   ]
  },
  {
   "cell_type": "markdown",
   "metadata": {},
   "source": [
    "In the clicks dataset, create a new column missing_category (boolean). Set to TRUE if the value in the \"category\" column is 0."
   ]
  },
  {
   "cell_type": "code",
   "execution_count": 75,
   "metadata": {},
   "outputs": [],
   "source": [
    "missing = F.udf(lambda category: category == 0)"
   ]
  },
  {
   "cell_type": "code",
   "execution_count": 76,
   "metadata": {},
   "outputs": [],
   "source": [
    "df_clicks_small = df_clicks_small.withColumn('missing_category', missing(df_clicks_small.category))"
   ]
  },
  {
   "cell_type": "code",
   "execution_count": 77,
   "metadata": {},
   "outputs": [
    {
     "name": "stdout",
     "output_type": "stream",
     "text": [
      "root\n",
      " |-- sess_id: integer (nullable = true)\n",
      " |-- timestamp: timestamp (nullable = true)\n",
      " |-- item_id: integer (nullable = true)\n",
      " |-- category: integer (nullable = true)\n",
      " |-- cat_freq: float (nullable = true)\n",
      " |-- special_offer: string (nullable = true)\n",
      " |-- missing_category: string (nullable = true)\n",
      "\n"
     ]
    }
   ],
   "source": [
    "df_clicks_small.printSchema()"
   ]
  },
  {
   "cell_type": "code",
   "execution_count": 78,
   "metadata": {},
   "outputs": [
    {
     "name": "stdout",
     "output_type": "stream",
     "text": [
      "+-------+--------------------+---------+--------+--------+-------------+----------------+\n",
      "|sess_id|           timestamp|  item_id|category|cat_freq|special_offer|missing_category|\n",
      "+-------+--------------------+---------+--------+--------+-------------+----------------+\n",
      "|      1|2014-04-07 10:51:...|214536502|       0|     1.0|        false|            true|\n",
      "|      1|2014-04-07 10:54:...|214536500|       0|     1.0|        false|            true|\n",
      "|      1|2014-04-07 10:54:...|214536506|       0|     1.0|        false|            true|\n",
      "|      1|2014-04-07 10:57:...|214577561|       0|     1.0|        false|            true|\n",
      "|      2|2014-04-07 13:56:...|214662742|       0|     1.0|        false|            true|\n",
      "+-------+--------------------+---------+--------+--------+-------------+----------------+\n",
      "only showing top 5 rows\n",
      "\n"
     ]
    }
   ],
   "source": [
    "df_clicks_small.show(5)"
   ]
  },
  {
   "cell_type": "markdown",
   "metadata": {},
   "source": [
    "## Question 11"
   ]
  },
  {
   "cell_type": "markdown",
   "metadata": {},
   "source": [
    "Find the number of clicks in each session. Add a new column - \"clicks_count\" in the clicks dataset, show the count associated with each session. "
   ]
  },
  {
   "cell_type": "code",
   "execution_count": 79,
   "metadata": {},
   "outputs": [],
   "source": [
    "gdf_clicks = df_clicks_small.groupBy('sess_id')"
   ]
  },
  {
   "cell_type": "code",
   "execution_count": 80,
   "metadata": {},
   "outputs": [],
   "source": [
    "counts = gdf_clicks.agg(F.count('item_id')).collect()"
   ]
  },
  {
   "cell_type": "code",
   "execution_count": 81,
   "metadata": {},
   "outputs": [],
   "source": [
    "count_per_sess = {}\n",
    "for c in counts:\n",
    "    count_per_sess[c[0]] = c[1]"
   ]
  },
  {
   "cell_type": "code",
   "execution_count": 82,
   "metadata": {},
   "outputs": [],
   "source": [
    "freq = F.udf(lambda sess_id: count_per_sess[sess_id])"
   ]
  },
  {
   "cell_type": "code",
   "execution_count": 83,
   "metadata": {},
   "outputs": [
    {
     "name": "stdout",
     "output_type": "stream",
     "text": [
      "+-------+--------------------+---------+--------+--------+-------------+----------------+------------+\n",
      "|sess_id|           timestamp|  item_id|category|cat_freq|special_offer|missing_category|clicks_count|\n",
      "+-------+--------------------+---------+--------+--------+-------------+----------------+------------+\n",
      "|      1|2014-04-07 10:51:...|214536502|       0|     1.0|        false|            true|           4|\n",
      "|      1|2014-04-07 10:54:...|214536500|       0|     1.0|        false|            true|           4|\n",
      "|      1|2014-04-07 10:54:...|214536506|       0|     1.0|        false|            true|           4|\n",
      "|      1|2014-04-07 10:57:...|214577561|       0|     1.0|        false|            true|           4|\n",
      "|      2|2014-04-07 13:56:...|214662742|       0|     1.0|        false|            true|           6|\n",
      "+-------+--------------------+---------+--------+--------+-------------+----------------+------------+\n",
      "only showing top 5 rows\n",
      "\n"
     ]
    }
   ],
   "source": [
    "df_clicks_small = df_clicks_small.withColumn('clicks_count', freq(df_clicks_small.sess_id))\n",
    "df_clicks_small.show(5)"
   ]
  },
  {
   "cell_type": "markdown",
   "metadata": {},
   "source": [
    "## Question 12"
   ]
  },
  {
   "cell_type": "markdown",
   "metadata": {},
   "source": [
    "Similarly, add \"items_count\" and \"cat_count\" for each session\n",
    "    1. items_count - number of items per session\n",
    "    2. cat_count - number of items per session\n"
   ]
  },
  {
   "cell_type": "code",
   "execution_count": 84,
   "metadata": {},
   "outputs": [],
   "source": [
    "counts = gdf_clicks.agg(F.countDistinct('item_id')).collect()"
   ]
  },
  {
   "cell_type": "code",
   "execution_count": 85,
   "metadata": {},
   "outputs": [],
   "source": [
    "count_per_sess = {}\n",
    "for c in counts:\n",
    "    count_per_sess[c[0]] = c[1]"
   ]
  },
  {
   "cell_type": "code",
   "execution_count": 86,
   "metadata": {},
   "outputs": [],
   "source": [
    "freq = F.udf(lambda sess_id: count_per_sess[sess_id])"
   ]
  },
  {
   "cell_type": "code",
   "execution_count": 87,
   "metadata": {},
   "outputs": [
    {
     "name": "stdout",
     "output_type": "stream",
     "text": [
      "+-------+--------------------+---------+--------+--------+-------------+----------------+------------+-----------+\n",
      "|sess_id|           timestamp|  item_id|category|cat_freq|special_offer|missing_category|clicks_count|items_count|\n",
      "+-------+--------------------+---------+--------+--------+-------------+----------------+------------+-----------+\n",
      "|      1|2014-04-07 10:51:...|214536502|       0|     1.0|        false|            true|           4|          4|\n",
      "|      1|2014-04-07 10:54:...|214536500|       0|     1.0|        false|            true|           4|          4|\n",
      "|      1|2014-04-07 10:54:...|214536506|       0|     1.0|        false|            true|           4|          4|\n",
      "|      1|2014-04-07 10:57:...|214577561|       0|     1.0|        false|            true|           4|          4|\n",
      "|      2|2014-04-07 13:56:...|214662742|       0|     1.0|        false|            true|           6|          5|\n",
      "+-------+--------------------+---------+--------+--------+-------------+----------------+------------+-----------+\n",
      "only showing top 5 rows\n",
      "\n"
     ]
    }
   ],
   "source": [
    "df_clicks_small = df_clicks_small.withColumn('items_count', freq(df_clicks_small.sess_id))\n",
    "df_clicks_small.show(5)"
   ]
  },
  {
   "cell_type": "code",
   "execution_count": 88,
   "metadata": {},
   "outputs": [],
   "source": [
    "counts = gdf_clicks.agg(F.countDistinct('category')).collect()"
   ]
  },
  {
   "cell_type": "code",
   "execution_count": 89,
   "metadata": {},
   "outputs": [],
   "source": [
    "count_per_sess = {}\n",
    "for c in counts:\n",
    "    count_per_sess[c[0]] = c[1]"
   ]
  },
  {
   "cell_type": "code",
   "execution_count": 90,
   "metadata": {},
   "outputs": [],
   "source": [
    "freq = F.udf(lambda sess_id: count_per_sess[sess_id])"
   ]
  },
  {
   "cell_type": "code",
   "execution_count": 91,
   "metadata": {},
   "outputs": [
    {
     "name": "stdout",
     "output_type": "stream",
     "text": [
      "+-------+--------------------+---------+--------+--------+-------------+----------------+------------+-----------+\n",
      "|sess_id|           timestamp|  item_id|category|cat_freq|special_offer|missing_category|clicks_count|items_count|\n",
      "+-------+--------------------+---------+--------+--------+-------------+----------------+------------+-----------+\n",
      "|      1|2014-04-07 10:51:...|214536502|       0|     1.0|        false|            true|           4|          1|\n",
      "|      1|2014-04-07 10:54:...|214536500|       0|     1.0|        false|            true|           4|          1|\n",
      "|      1|2014-04-07 10:54:...|214536506|       0|     1.0|        false|            true|           4|          1|\n",
      "|      1|2014-04-07 10:57:...|214577561|       0|     1.0|        false|            true|           4|          1|\n",
      "|      2|2014-04-07 13:56:...|214662742|       0|     1.0|        false|            true|           6|          1|\n",
      "+-------+--------------------+---------+--------+--------+-------------+----------------+------------+-----------+\n",
      "only showing top 5 rows\n",
      "\n"
     ]
    }
   ],
   "source": [
    "df_clicks_small = df_clicks_small.withColumn('items_count', freq(df_clicks_small.sess_id))\n",
    "df_clicks_small.show(5)"
   ]
  },
  {
   "cell_type": "markdown",
   "metadata": {},
   "source": [
    "## Question 13"
   ]
  },
  {
   "cell_type": "markdown",
   "metadata": {},
   "source": [
    "Clicks datasets: find  dwell time i.e. time gap between a click and previous click for each record"
   ]
  },
  {
   "cell_type": "code",
   "execution_count": 92,
   "metadata": {},
   "outputs": [],
   "source": [
    "from pyspark.sql.window import Window\n",
    "\n",
    "w = Window.partitionBy('sess_id').orderBy('timestamp')\n",
    "df_clicks_small = (df_clicks_small.withColumn(\"previous_t\", F.lag(df_clicks_small.timestamp, 1).over(w))\n",
    "  .select('*', (F.unix_timestamp(df_clicks_small.timestamp) - F.unix_timestamp(F.col('previous_t'))).alias('dwell_time'))\\\n",
    "  )"
   ]
  },
  {
   "cell_type": "code",
   "execution_count": 93,
   "metadata": {},
   "outputs": [
    {
     "name": "stdout",
     "output_type": "stream",
     "text": [
      "+-------+--------------------+---------+--------+--------+-------------+----------------+------------+-----------+--------------------+----------+\n",
      "|sess_id|           timestamp|  item_id|category|cat_freq|special_offer|missing_category|clicks_count|items_count|          previous_t|dwell_time|\n",
      "+-------+--------------------+---------+--------+--------+-------------+----------------+------------+-----------+--------------------+----------+\n",
      "|    148|2014-04-01 16:06:...|214684093|       0|     1.0|        false|            true|           3|          1|                null|      null|\n",
      "|    148|2014-04-01 16:10:...|214684093|       0|     1.0|        false|            true|           3|          1|2014-04-01 16:06:...|       253|\n",
      "|    148|2014-04-01 16:18:...|214684093|       0|     1.0|        false|            true|           3|          1|2014-04-01 16:10:...|       489|\n",
      "|    463|2014-04-04 08:25:...|214820385|       0|     1.0|        false|            true|           2|          1|                null|      null|\n",
      "|    463|2014-04-04 08:26:...|214819526|       0|     1.0|        false|            true|           2|          1|2014-04-04 08:25:...|        35|\n",
      "+-------+--------------------+---------+--------+--------+-------------+----------------+------------+-----------+--------------------+----------+\n",
      "only showing top 5 rows\n",
      "\n"
     ]
    }
   ],
   "source": [
    "df_clicks_small.show(5)"
   ]
  },
  {
   "cell_type": "markdown",
   "metadata": {},
   "source": [
    "## Question 14"
   ]
  },
  {
   "cell_type": "markdown",
   "metadata": {},
   "source": [
    "### a. Find start time (start_ts) and end time  (end_ts) of each session"
   ]
  },
  {
   "cell_type": "code",
   "execution_count": 94,
   "metadata": {},
   "outputs": [],
   "source": [
    "gdf_clicks = df_clicks_small.groupBy('sess_id')"
   ]
  },
  {
   "cell_type": "code",
   "execution_count": 95,
   "metadata": {},
   "outputs": [],
   "source": [
    "df_sess = (df_clicks_small\n",
    ".groupBy(F.col('sess_id'))\n",
    ".agg(\n",
    "    F.min('timestamp').alias('start_ts'),\n",
    "    F.max('timestamp').alias('end_ts')\n",
    ")).cache()"
   ]
  },
  {
   "cell_type": "code",
   "execution_count": 96,
   "metadata": {},
   "outputs": [
    {
     "name": "stdout",
     "output_type": "stream",
     "text": [
      "+-------+--------------------+--------------------+\n",
      "|sess_id|            start_ts|              end_ts|\n",
      "+-------+--------------------+--------------------+\n",
      "|      1|2014-04-07 10:51:...|2014-04-07 10:57:...|\n",
      "|      2|2014-04-07 13:56:...|2014-04-07 14:02:...|\n",
      "|      3|2014-04-02 13:17:...|2014-04-02 13:30:...|\n",
      "|      4|2014-04-07 12:09:...|2014-04-07 12:26:...|\n",
      "|      6|2014-04-06 16:58:...|2014-04-06 17:02:...|\n",
      "+-------+--------------------+--------------------+\n",
      "only showing top 5 rows\n",
      "\n"
     ]
    }
   ],
   "source": [
    "df_sess.show(5)"
   ]
  },
  {
   "cell_type": "markdown",
   "metadata": {},
   "source": [
    "### b. Find duration of each session in seconds (total_duration_secs)"
   ]
  },
  {
   "cell_type": "markdown",
   "metadata": {},
   "source": [
    "Avoid zero values so as to avoid division by zero exception."
   ]
  },
  {
   "cell_type": "code",
   "execution_count": 97,
   "metadata": {},
   "outputs": [],
   "source": [
    "df_sess = (df_sess\n",
    ".withColumn(\"total_duration_secs\", F.unix_timestamp(F.col('end_ts')) - F.unix_timestamp(F.col('start_ts')) + 0.01))"
   ]
  },
  {
   "cell_type": "code",
   "execution_count": 98,
   "metadata": {},
   "outputs": [
    {
     "name": "stdout",
     "output_type": "stream",
     "text": [
      "+-------+--------------------+--------------------+-------------------+\n",
      "|sess_id|            start_ts|              end_ts|total_duration_secs|\n",
      "+-------+--------------------+--------------------+-------------------+\n",
      "|      1|2014-04-07 10:51:...|2014-04-07 10:57:...|             351.01|\n",
      "|      2|2014-04-07 13:56:...|2014-04-07 14:02:...|             359.01|\n",
      "|      3|2014-04-02 13:17:...|2014-04-02 13:30:...|             746.01|\n",
      "|      4|2014-04-07 12:09:...|2014-04-07 12:26:...|            1035.01|\n",
      "|      6|2014-04-06 16:58:...|2014-04-06 17:02:...|             246.01|\n",
      "+-------+--------------------+--------------------+-------------------+\n",
      "only showing top 5 rows\n",
      "\n"
     ]
    }
   ],
   "source": [
    "df_sess.show(5)"
   ]
  },
  {
   "cell_type": "markdown",
   "metadata": {},
   "source": [
    "### c. Find number of clicks per session (clicks_count_sum)"
   ]
  },
  {
   "cell_type": "code",
   "execution_count": 99,
   "metadata": {},
   "outputs": [],
   "source": [
    "gdf_clicks = df_clicks_small.groupBy('sess_id')"
   ]
  },
  {
   "cell_type": "code",
   "execution_count": 100,
   "metadata": {},
   "outputs": [],
   "source": [
    "counts = gdf_clicks.agg(F.count('item_id')).collect()"
   ]
  },
  {
   "cell_type": "code",
   "execution_count": 101,
   "metadata": {},
   "outputs": [],
   "source": [
    "count_per_sess = {}\n",
    "for c in counts:\n",
    "    count_per_sess[c[0]] = c[1]"
   ]
  },
  {
   "cell_type": "code",
   "execution_count": 102,
   "metadata": {},
   "outputs": [],
   "source": [
    "freq = F.udf(lambda sess_id: count_per_sess[sess_id], IntegerType())"
   ]
  },
  {
   "cell_type": "code",
   "execution_count": 103,
   "metadata": {},
   "outputs": [
    {
     "name": "stdout",
     "output_type": "stream",
     "text": [
      "+-------+--------------------+--------------------+-------------------+----------------+\n",
      "|sess_id|            start_ts|              end_ts|total_duration_secs|clicks_count_sum|\n",
      "+-------+--------------------+--------------------+-------------------+----------------+\n",
      "|      1|2014-04-07 10:51:...|2014-04-07 10:57:...|             351.01|               4|\n",
      "|      2|2014-04-07 13:56:...|2014-04-07 14:02:...|             359.01|               6|\n",
      "|      3|2014-04-02 13:17:...|2014-04-02 13:30:...|             746.01|               3|\n",
      "|      4|2014-04-07 12:09:...|2014-04-07 12:26:...|            1035.01|               2|\n",
      "|      6|2014-04-06 16:58:...|2014-04-06 17:02:...|             246.01|               2|\n",
      "+-------+--------------------+--------------------+-------------------+----------------+\n",
      "only showing top 5 rows\n",
      "\n"
     ]
    }
   ],
   "source": [
    "df_sess = df_sess.withColumn('clicks_count_sum', freq(df_sess.sess_id))\n",
    "df_sess.show(5)"
   ]
  },
  {
   "cell_type": "code",
   "execution_count": 104,
   "metadata": {},
   "outputs": [
    {
     "name": "stdout",
     "output_type": "stream",
     "text": [
      "root\n",
      " |-- sess_id: integer (nullable = true)\n",
      " |-- start_ts: timestamp (nullable = true)\n",
      " |-- end_ts: timestamp (nullable = true)\n",
      " |-- total_duration_secs: double (nullable = true)\n",
      " |-- clicks_count_sum: integer (nullable = true)\n",
      "\n"
     ]
    }
   ],
   "source": [
    "df_sess.printSchema()"
   ]
  },
  {
   "cell_type": "markdown",
   "metadata": {},
   "source": [
    "### d. Find click  rate  (clicks_count_sum/total_duration_secs)"
   ]
  },
  {
   "cell_type": "markdown",
   "metadata": {},
   "source": [
    "Skipped because I kept getting `SIGSEGV`."
   ]
  },
  {
   "cell_type": "code",
   "execution_count": 105,
   "metadata": {},
   "outputs": [],
   "source": [
    "df_sess = df_sess.withColumn('click_rate', F.col('clicks_count_sum') / (F.col('total_duration_secs')))"
   ]
  },
  {
   "cell_type": "code",
   "execution_count": 106,
   "metadata": {},
   "outputs": [
    {
     "name": "stdout",
     "output_type": "stream",
     "text": [
      "+-------+--------------------+--------------------+-------------------+----------------+--------------------+\n",
      "|sess_id|            start_ts|              end_ts|total_duration_secs|clicks_count_sum|          click_rate|\n",
      "+-------+--------------------+--------------------+-------------------+----------------+--------------------+\n",
      "|      1|2014-04-07 10:51:...|2014-04-07 10:57:...|             351.01|               4|0.011395686732571722|\n",
      "|      2|2014-04-07 13:56:...|2014-04-07 14:02:...|             359.01|               6|0.016712626389237067|\n",
      "|      3|2014-04-02 13:17:...|2014-04-02 13:30:...|             746.01|               3|0.004021393815096312|\n",
      "|      4|2014-04-07 12:09:...|2014-04-07 12:26:...|            1035.01|               2|0.001932348479724...|\n",
      "|      6|2014-04-06 16:58:...|2014-04-06 17:02:...|             246.01|               2|0.008129750823137272|\n",
      "+-------+--------------------+--------------------+-------------------+----------------+--------------------+\n",
      "only showing top 5 rows\n",
      "\n"
     ]
    }
   ],
   "source": [
    "df_sess.show(5)"
   ]
  },
  {
   "cell_type": "markdown",
   "metadata": {},
   "source": [
    "### e. Find distinct number of items viewed (total_items)"
   ]
  },
  {
   "cell_type": "code",
   "execution_count": 107,
   "metadata": {},
   "outputs": [],
   "source": [
    "gdf_clicks = df_clicks_small.groupBy('sess_id')"
   ]
  },
  {
   "cell_type": "code",
   "execution_count": 108,
   "metadata": {},
   "outputs": [],
   "source": [
    "counts = gdf_clicks.agg(F.countDistinct('item_id')).collect()"
   ]
  },
  {
   "cell_type": "code",
   "execution_count": 109,
   "metadata": {},
   "outputs": [],
   "source": [
    "count_per_sess = {}\n",
    "for c in counts:\n",
    "    count_per_sess[c[0]] = c[1]"
   ]
  },
  {
   "cell_type": "code",
   "execution_count": 110,
   "metadata": {},
   "outputs": [],
   "source": [
    "freq = F.udf(lambda sess_id: count_per_sess[sess_id], IntegerType())"
   ]
  },
  {
   "cell_type": "code",
   "execution_count": 111,
   "metadata": {},
   "outputs": [
    {
     "name": "stdout",
     "output_type": "stream",
     "text": [
      "+-------+--------------------+--------------------+-------------------+----------------+--------------------+-----------+\n",
      "|sess_id|            start_ts|              end_ts|total_duration_secs|clicks_count_sum|          click_rate|total_items|\n",
      "+-------+--------------------+--------------------+-------------------+----------------+--------------------+-----------+\n",
      "|      1|2014-04-07 10:51:...|2014-04-07 10:57:...|             351.01|               4|0.011395686732571722|          4|\n",
      "|      2|2014-04-07 13:56:...|2014-04-07 14:02:...|             359.01|               6|0.016712626389237067|          5|\n",
      "|      3|2014-04-02 13:17:...|2014-04-02 13:30:...|             746.01|               3|0.004021393815096312|          3|\n",
      "|      4|2014-04-07 12:09:...|2014-04-07 12:26:...|            1035.01|               2|0.001932348479724...|          2|\n",
      "|      6|2014-04-06 16:58:...|2014-04-06 17:02:...|             246.01|               2|0.008129750823137272|          2|\n",
      "+-------+--------------------+--------------------+-------------------+----------------+--------------------+-----------+\n",
      "only showing top 5 rows\n",
      "\n"
     ]
    }
   ],
   "source": [
    "df_sess = df_sess.withColumn('total_items', freq(df_sess.sess_id))\n",
    "df_sess.show(5)"
   ]
  },
  {
   "cell_type": "code",
   "execution_count": 112,
   "metadata": {},
   "outputs": [
    {
     "name": "stdout",
     "output_type": "stream",
     "text": [
      "root\n",
      " |-- sess_id: integer (nullable = true)\n",
      " |-- start_ts: timestamp (nullable = true)\n",
      " |-- end_ts: timestamp (nullable = true)\n",
      " |-- total_duration_secs: double (nullable = true)\n",
      " |-- clicks_count_sum: integer (nullable = true)\n",
      " |-- click_rate: double (nullable = true)\n",
      " |-- total_items: integer (nullable = true)\n",
      "\n"
     ]
    }
   ],
   "source": [
    "df_sess.printSchema()"
   ]
  },
  {
   "cell_type": "markdown",
   "metadata": {},
   "source": [
    "### f. Find distinct number of categories viewed (total_cats)"
   ]
  },
  {
   "cell_type": "code",
   "execution_count": 113,
   "metadata": {},
   "outputs": [],
   "source": [
    "gdf_clicks = df_clicks_small.groupBy('sess_id')"
   ]
  },
  {
   "cell_type": "code",
   "execution_count": 114,
   "metadata": {},
   "outputs": [],
   "source": [
    "counts = gdf_clicks.agg(F.countDistinct('category')).collect()"
   ]
  },
  {
   "cell_type": "code",
   "execution_count": 115,
   "metadata": {},
   "outputs": [],
   "source": [
    "count_per_sess = {}\n",
    "for c in counts:\n",
    "    count_per_sess[c[0]] = c[1]"
   ]
  },
  {
   "cell_type": "code",
   "execution_count": 116,
   "metadata": {},
   "outputs": [],
   "source": [
    "freq = F.udf(lambda sess_id: count_per_sess[sess_id], IntegerType())"
   ]
  },
  {
   "cell_type": "code",
   "execution_count": 117,
   "metadata": {},
   "outputs": [
    {
     "name": "stdout",
     "output_type": "stream",
     "text": [
      "+-------+--------------------+--------------------+-------------------+----------------+--------------------+-----------+----------+\n",
      "|sess_id|            start_ts|              end_ts|total_duration_secs|clicks_count_sum|          click_rate|total_items|total_cats|\n",
      "+-------+--------------------+--------------------+-------------------+----------------+--------------------+-----------+----------+\n",
      "|      1|2014-04-07 10:51:...|2014-04-07 10:57:...|             351.01|               4|0.011395686732571722|          4|         1|\n",
      "|      2|2014-04-07 13:56:...|2014-04-07 14:02:...|             359.01|               6|0.016712626389237067|          5|         1|\n",
      "|      3|2014-04-02 13:17:...|2014-04-02 13:30:...|             746.01|               3|0.004021393815096312|          3|         1|\n",
      "|      4|2014-04-07 12:09:...|2014-04-07 12:26:...|            1035.01|               2|0.001932348479724...|          2|         1|\n",
      "|      6|2014-04-06 16:58:...|2014-04-06 17:02:...|             246.01|               2|0.008129750823137272|          2|         1|\n",
      "+-------+--------------------+--------------------+-------------------+----------------+--------------------+-----------+----------+\n",
      "only showing top 5 rows\n",
      "\n"
     ]
    }
   ],
   "source": [
    "df_sess = df_sess.withColumn('total_cats', freq(df_sess.sess_id))\n",
    "df_sess.show(5)"
   ]
  },
  {
   "cell_type": "code",
   "execution_count": 118,
   "metadata": {},
   "outputs": [
    {
     "name": "stdout",
     "output_type": "stream",
     "text": [
      "root\n",
      " |-- sess_id: integer (nullable = true)\n",
      " |-- start_ts: timestamp (nullable = true)\n",
      " |-- end_ts: timestamp (nullable = true)\n",
      " |-- total_duration_secs: double (nullable = true)\n",
      " |-- clicks_count_sum: integer (nullable = true)\n",
      " |-- click_rate: double (nullable = true)\n",
      " |-- total_items: integer (nullable = true)\n",
      " |-- total_cats: integer (nullable = true)\n",
      "\n"
     ]
    }
   ],
   "source": [
    "df_sess.printSchema()"
   ]
  },
  {
   "cell_type": "markdown",
   "metadata": {},
   "source": [
    "### g. Find max dwell and min dwell  in a session"
   ]
  },
  {
   "cell_type": "code",
   "execution_count": 121,
   "metadata": {},
   "outputs": [],
   "source": [
    "tdf = (df_clicks_small\n",
    ".groupBy(F.col('sess_id'))\n",
    ".agg(\n",
    "    F.min('dwell_time').alias('min_dwell_time'),\n",
    "    F.max('dwell_time').alias('max_dwell_time')\n",
    "))"
   ]
  },
  {
   "cell_type": "code",
   "execution_count": 129,
   "metadata": {},
   "outputs": [],
   "source": [
    "df_sess = df_sess.join(tdf, on=['sess_id'], how='left')"
   ]
  },
  {
   "cell_type": "code",
   "execution_count": 130,
   "metadata": {},
   "outputs": [
    {
     "data": {
      "text/html": [
       "<div>\n",
       "<style scoped>\n",
       "    .dataframe tbody tr th:only-of-type {\n",
       "        vertical-align: middle;\n",
       "    }\n",
       "\n",
       "    .dataframe tbody tr th {\n",
       "        vertical-align: top;\n",
       "    }\n",
       "\n",
       "    .dataframe thead th {\n",
       "        text-align: right;\n",
       "    }\n",
       "</style>\n",
       "<table border=\"1\" class=\"dataframe\">\n",
       "  <thead>\n",
       "    <tr style=\"text-align: right;\">\n",
       "      <th></th>\n",
       "      <th>sess_id</th>\n",
       "      <th>start_ts</th>\n",
       "      <th>end_ts</th>\n",
       "      <th>total_duration_secs</th>\n",
       "      <th>clicks_count_sum</th>\n",
       "      <th>click_rate</th>\n",
       "      <th>total_items</th>\n",
       "      <th>total_cats</th>\n",
       "      <th>min_dwell_time</th>\n",
       "      <th>max_dwell_time</th>\n",
       "    </tr>\n",
       "  </thead>\n",
       "  <tbody>\n",
       "    <tr>\n",
       "      <td>0</td>\n",
       "      <td>1</td>\n",
       "      <td>2014-04-07 10:51:09.277</td>\n",
       "      <td>2014-04-07 10:57:00.306</td>\n",
       "      <td>351.01</td>\n",
       "      <td>4</td>\n",
       "      <td>0.011396</td>\n",
       "      <td>4</td>\n",
       "      <td>1</td>\n",
       "      <td>37</td>\n",
       "      <td>180</td>\n",
       "    </tr>\n",
       "    <tr>\n",
       "      <td>1</td>\n",
       "      <td>2</td>\n",
       "      <td>2014-04-07 13:56:37.614</td>\n",
       "      <td>2014-04-07 14:02:36.889</td>\n",
       "      <td>359.01</td>\n",
       "      <td>6</td>\n",
       "      <td>0.016713</td>\n",
       "      <td>5</td>\n",
       "      <td>1</td>\n",
       "      <td>42</td>\n",
       "      <td>118</td>\n",
       "    </tr>\n",
       "    <tr>\n",
       "      <td>2</td>\n",
       "      <td>3</td>\n",
       "      <td>2014-04-02 13:17:46.940</td>\n",
       "      <td>2014-04-02 13:30:12.318</td>\n",
       "      <td>746.01</td>\n",
       "      <td>3</td>\n",
       "      <td>0.004021</td>\n",
       "      <td>3</td>\n",
       "      <td>1</td>\n",
       "      <td>250</td>\n",
       "      <td>496</td>\n",
       "    </tr>\n",
       "    <tr>\n",
       "      <td>3</td>\n",
       "      <td>4</td>\n",
       "      <td>2014-04-07 12:09:10.948</td>\n",
       "      <td>2014-04-07 12:26:25.416</td>\n",
       "      <td>1035.01</td>\n",
       "      <td>2</td>\n",
       "      <td>0.001932</td>\n",
       "      <td>2</td>\n",
       "      <td>1</td>\n",
       "      <td>1035</td>\n",
       "      <td>1035</td>\n",
       "    </tr>\n",
       "    <tr>\n",
       "      <td>4</td>\n",
       "      <td>6</td>\n",
       "      <td>2014-04-06 16:58:20.848</td>\n",
       "      <td>2014-04-06 17:02:26.976</td>\n",
       "      <td>246.01</td>\n",
       "      <td>2</td>\n",
       "      <td>0.008130</td>\n",
       "      <td>2</td>\n",
       "      <td>1</td>\n",
       "      <td>246</td>\n",
       "      <td>246</td>\n",
       "    </tr>\n",
       "  </tbody>\n",
       "</table>\n",
       "</div>"
      ],
      "text/plain": [
       "   sess_id                start_ts                  end_ts  \\\n",
       "0        1 2014-04-07 10:51:09.277 2014-04-07 10:57:00.306   \n",
       "1        2 2014-04-07 13:56:37.614 2014-04-07 14:02:36.889   \n",
       "2        3 2014-04-02 13:17:46.940 2014-04-02 13:30:12.318   \n",
       "3        4 2014-04-07 12:09:10.948 2014-04-07 12:26:25.416   \n",
       "4        6 2014-04-06 16:58:20.848 2014-04-06 17:02:26.976   \n",
       "\n",
       "   total_duration_secs  clicks_count_sum  click_rate  total_items  total_cats  \\\n",
       "0               351.01                 4    0.011396            4           1   \n",
       "1               359.01                 6    0.016713            5           1   \n",
       "2               746.01                 3    0.004021            3           1   \n",
       "3              1035.01                 2    0.001932            2           1   \n",
       "4               246.01                 2    0.008130            2           1   \n",
       "\n",
       "   min_dwell_time  max_dwell_time  \n",
       "0              37             180  \n",
       "1              42             118  \n",
       "2             250             496  \n",
       "3            1035            1035  \n",
       "4             246             246  "
      ]
     },
     "execution_count": 130,
     "metadata": {},
     "output_type": "execute_result"
    }
   ],
   "source": [
    "df_sess.limit(50).toPandas().head()"
   ]
  },
  {
   "cell_type": "markdown",
   "metadata": {},
   "source": [
    "### h. Replace all null/inf values with 0"
   ]
  },
  {
   "cell_type": "code",
   "execution_count": 131,
   "metadata": {},
   "outputs": [],
   "source": [
    "df_sess = df_sess.fillna(0)"
   ]
  },
  {
   "cell_type": "markdown",
   "metadata": {},
   "source": [
    "### i. Drop start_ts  and end_ts from the dataset"
   ]
  },
  {
   "cell_type": "code",
   "execution_count": 135,
   "metadata": {},
   "outputs": [],
   "source": [
    "df_sess = df_sess.drop('start_ts').drop('end_ts')"
   ]
  },
  {
   "cell_type": "code",
   "execution_count": 136,
   "metadata": {},
   "outputs": [
    {
     "name": "stdout",
     "output_type": "stream",
     "text": [
      "root\n",
      " |-- sess_id: integer (nullable = true)\n",
      " |-- total_duration_secs: double (nullable = false)\n",
      " |-- clicks_count_sum: integer (nullable = true)\n",
      " |-- click_rate: double (nullable = false)\n",
      " |-- total_items: integer (nullable = true)\n",
      " |-- total_cats: integer (nullable = true)\n",
      " |-- min_dwell_time: long (nullable = true)\n",
      " |-- max_dwell_time: long (nullable = true)\n",
      "\n"
     ]
    }
   ],
   "source": [
    "df_sess.printSchema()"
   ]
  },
  {
   "cell_type": "markdown",
   "metadata": {},
   "source": [
    "### j. Using buys datasets, find where or not the user buys in a given session. [If a session id is present in the buys dataset that indicates the user has made a purchase]. Create a new column (buy = 0: not buy, 1: buy)"
   ]
  },
  {
   "cell_type": "markdown",
   "metadata": {},
   "source": [
    "Needed to add a constant column of '1' to the buys dataset and perform a left inner join. Could not finish because the kernel kept dying intermittently."
   ]
  },
  {
   "cell_type": "markdown",
   "metadata": {},
   "source": [
    "## Unattemped Questions"
   ]
  },
  {
   "cell_type": "markdown",
   "metadata": {},
   "source": [
    "Using buys datasets, find how many items are purchased [items_bought]\n",
    "Create one-hot-encoding the category column on clicks dataset (add one column for each category -  value is 1/0 based on where or not the record belongs the category)\n",
    "Using the start time of the session, find the hour of the day for each session start.  \n",
    "Using session dataset created above, create a pivot table for conversion ratio by hour and category\n",
    "rows => item categories\n",
    "columns => hour of the day\n",
    "values => conversion ratio = number sessions with buys / total number of sessions\n",
    "Using session dataset created above, create a pivot table for conversion ratio by hour and category\n",
    "rows => item categories\n",
    "columns => hour of the day\n",
    "values => average price of buys\n"
   ]
  },
  {
   "cell_type": "code",
   "execution_count": null,
   "metadata": {},
   "outputs": [],
   "source": []
  }
 ],
 "metadata": {
  "kernelspec": {
   "display_name": "Python 3",
   "language": "python",
   "name": "python3"
  },
  "language_info": {
   "codemirror_mode": {
    "name": "ipython",
    "version": 3
   },
   "file_extension": ".py",
   "mimetype": "text/x-python",
   "name": "python",
   "nbconvert_exporter": "python",
   "pygments_lexer": "ipython3",
   "version": "3.7.4"
  }
 },
 "nbformat": 4,
 "nbformat_minor": 2
}
